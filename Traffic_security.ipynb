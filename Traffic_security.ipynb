{
  "nbformat": 4,
  "nbformat_minor": 0,
  "metadata": {
    "colab": {
      "provenance": []
    },
    "kernelspec": {
      "name": "python3",
      "display_name": "Python 3"
    },
    "language_info": {
      "name": "python"
    }
  },
  "cells": [
    {
      "cell_type": "code",
      "execution_count": null,
      "metadata": {
        "id": "uwW3TI98VS7F"
      },
      "outputs": [],
      "source": [
        "import cv2\n",
        "\n",
        "from ultralytics import YOLO, solutions\n",
        "\n",
        "model = YOLO(\"yolov8n.pt\")\n",
        "names = model.model.names\n",
        "\n",
        "cap = cv2.VideoCapture(\"path/to/video/file.mp4\")\n",
        "w, h, fps = (int(cap.get(x)) for x in (cv2.CAP_PROP_FRAME_WIDTH, cv2.CAP_PROP_FRAME_HEIGHT, cv2.CAP_PROP_FPS))\n",
        "video_writer = cv2.VideoWriter(\"speed_estimation.avi\", cv2.VideoWriter_fourcc(*\"mp4v\"), fps, (w, h))\n",
        "\n",
        "# Initialize SpeedEstimator\n",
        "speed_obj = solutions.SpeedEstimator(\n",
        "    reg_pts=[(0, 360), (1280, 360)],\n",
        "    names=names,\n",
        "    view_img=True,\n",
        ")\n",
        "\n",
        "while cap.isOpened():\n",
        "    success, im0 = cap.read()\n",
        "    if not success:\n",
        "        break\n",
        "    tracks = model.track(im0, persist=True, show=False)\n",
        "    im0 = speed_obj.estimate_speed(im0, tracks)\n",
        "    video_writer.write(im0)\n",
        "\n",
        "cap.release()\n",
        "video_writer.release()\n",
        "cv2.destroyAllWindows()"
      ]
    }
  ]
}