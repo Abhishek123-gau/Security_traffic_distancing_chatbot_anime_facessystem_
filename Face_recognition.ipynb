{
  "nbformat": 4,
  "nbformat_minor": 0,
  "metadata": {
    "colab": {
      "provenance": []
    },
    "kernelspec": {
      "name": "python3",
      "display_name": "Python 3"
    },
    "language_info": {
      "name": "python"
    }
  },
  "cells": [
    {
      "cell_type": "code",
      "execution_count": null,
      "metadata": {
        "id": "uwW3TI98VS7F"
      },
      "outputs": [],
      "source": [
        "import smtplib\n",
        "\n",
        "server = smtplib.SMTP(\"smtp.gmail.com: 587\")\n",
        "server.starttls()\n",
        "server.login(from_email, password)"
      ]
    },
    {
      "cell_type": "code",
      "source": [
        "from email.mime.multipart import MIMEMultipart\n",
        "from email.mime.text import MIMEText\n",
        "\n",
        "\n",
        "def send_email(to_email, from_email, object_detected=1):\n",
        "    \"\"\"Sends an email notification indicating the number of objects detected; defaults to 1 object.\"\"\"\n",
        "    message = MIMEMultipart()\n",
        "    message[\"From\"] = from_email\n",
        "    message[\"To\"] = to_email\n",
        "    message[\"Subject\"] = \"Security Alert\"\n",
        "    # Add in the message body\n",
        "    message_body = f\"ALERT - {object_detected} objects has been detected!!\"\n",
        "\n",
        "    message.attach(MIMEText(message_body, \"plain\"))\n",
        "    server.sendmail(from_email, to_email, message.as_string())"
      ],
      "metadata": {
        "id": "zfiKJpsBVlo3"
      },
      "execution_count": null,
      "outputs": []
    },
    {
      "cell_type": "code",
      "source": [
        "from time import time\n",
        "\n",
        "import cv2\n",
        "import torch\n",
        "\n",
        "from ultralytics import YOLO\n",
        "from ultralytics.utils.plotting import Annotator, colors\n",
        "\n",
        "\n",
        "class ObjectDetection:\n",
        "    def __init__(self, capture_index):\n",
        "        \"\"\"Initializes an ObjectDetection instance with a given camera index.\"\"\"\n",
        "        self.capture_index = capture_index\n",
        "        self.email_sent = False\n",
        "\n",
        "        # model information\n",
        "        self.model = YOLO(\"yolov8n.pt\")\n",
        "\n",
        "        # visual information\n",
        "        self.annotator = None\n",
        "        self.start_time = 0\n",
        "        self.end_time = 0\n",
        "\n",
        "        # device information\n",
        "        self.device = \"cuda\" if torch.cuda.is_available() else \"cpu\"\n",
        "\n",
        "    def predict(self, im0):\n",
        "        \"\"\"Run prediction using a YOLO model for the input image `im0`.\"\"\"\n",
        "        results = self.model(im0)\n",
        "        return results\n",
        "\n",
        "    def display_fps(self, im0):\n",
        "        \"\"\"Displays the FPS on an image `im0` by calculating and overlaying as white text on a black rectangle.\"\"\"\n",
        "        self.end_time = time()\n",
        "        fps = 1 / round(self.end_time - self.start_time, 2)\n",
        "        text = f\"FPS: {int(fps)}\"\n",
        "        text_size = cv2.getTextSize(text, cv2.FONT_HERSHEY_SIMPLEX, 1.0, 2)[0]\n",
        "        gap = 10\n",
        "        cv2.rectangle(\n",
        "            im0,\n",
        "            (20 - gap, 70 - text_size[1] - gap),\n",
        "            (20 + text_size[0] + gap, 70 + gap),\n",
        "            (255, 255, 255),\n",
        "            -1,\n",
        "        )\n",
        "        cv2.putText(im0, text, (20, 70), cv2.FONT_HERSHEY_SIMPLEX, 1.0, (0, 0, 0), 2)\n",
        "\n",
        "    def plot_bboxes(self, results, im0):\n",
        "        \"\"\"Plots bounding boxes on an image given detection results; returns annotated image and class IDs.\"\"\"\n",
        "        class_ids = []\n",
        "        self.annotator = Annotator(im0, 3, results[0].names)\n",
        "        boxes = results[0].boxes.xyxy.cpu()\n",
        "        clss = results[0].boxes.cls.cpu().tolist()\n",
        "        names = results[0].names\n",
        "        for box, cls in zip(boxes, clss):\n",
        "            class_ids.append(cls)\n",
        "            self.annotator.box_label(box, label=names[int(cls)], color=colors(int(cls), True))\n",
        "        return im0, class_ids\n",
        "\n",
        "    def __call__(self):\n",
        "        \"\"\"Run object detection on video frames from a camera stream, plotting and showing the results.\"\"\"\n",
        "        cap = cv2.VideoCapture(self.capture_index)\n",
        "        assert cap.isOpened()\n",
        "        cap.set(cv2.CAP_PROP_FRAME_WIDTH, 640)\n",
        "        cap.set(cv2.CAP_PROP_FRAME_HEIGHT, 480)\n",
        "        frame_count = 0\n",
        "        while True:\n",
        "            self.start_time = time()\n",
        "            ret, im0 = cap.read()\n",
        "            assert ret\n",
        "            results = self.predict(im0)\n",
        "            im0, class_ids = self.plot_bboxes(results, im0)\n",
        "\n",
        "            if len(class_ids) > 0:  # Only send email If not sent before\n",
        "                if not self.email_sent:\n",
        "                    send_email(to_email, from_email, len(class_ids))\n",
        "                    self.email_sent = True\n",
        "            else:\n",
        "                self.email_sent = False\n",
        "\n",
        "            self.display_fps(im0)\n",
        "            cv2.imshow(\"YOLOv8 Detection\", im0)\n",
        "            frame_count += 1\n",
        "            if cv2.waitKey(5) & 0xFF == 27:\n",
        "                break\n",
        "        cap.release()\n",
        "        cv2.destroyAllWindows()\n",
        "        server.quit()"
      ],
      "metadata": {
        "id": "F2hj8C_eVriW"
      },
      "execution_count": null,
      "outputs": []
    },
    {
      "cell_type": "code",
      "source": [
        "detector = ObjectDetection(capture_index=0)\n",
        "detector()"
      ],
      "metadata": {
        "id": "kTMLKrjfVtXI"
      },
      "execution_count": null,
      "outputs": []
    }
  ]
}